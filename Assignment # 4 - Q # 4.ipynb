{
 "cells": [
  {
   "cell_type": "code",
   "execution_count": 15,
   "id": "3d8d35b3",
   "metadata": {},
   "outputs": [
    {
     "name": "stdout",
     "output_type": "stream",
     "text": [
      "{'Subject1': 59, 'Subject2': 76, 'Subject3': 92, 'Subject4': 81}\n",
      "308\n"
     ]
    }
   ],
   "source": [
    "# Assignment No. 4.\n",
    "# Question No. 4.\n",
    "# Write a Python program to sum all the numeric items in a dictionary.\n",
    "\n",
    "dictionaryOfNumbers = {\"Subject1\":59, \"Subject2\":76, \"Subject3\":92, \"Subject4\":81};\n",
    "print(dictionaryOfNumbers);\n",
    "sumAll = 0;\n",
    "for aaa in dictionaryOfNumbers.values():\n",
    "    sumAll += aaa;\n",
    "print(sumAll);\n"
   ]
  },
  {
   "cell_type": "code",
   "execution_count": null,
   "id": "7ed2beb1",
   "metadata": {},
   "outputs": [],
   "source": []
  },
  {
   "cell_type": "code",
   "execution_count": null,
   "id": "d08f3603",
   "metadata": {},
   "outputs": [],
   "source": []
  },
  {
   "cell_type": "code",
   "execution_count": null,
   "id": "d02c578d",
   "metadata": {},
   "outputs": [],
   "source": []
  }
 ],
 "metadata": {
  "kernelspec": {
   "display_name": "Python 3",
   "language": "python",
   "name": "python3"
  },
  "language_info": {
   "codemirror_mode": {
    "name": "ipython",
    "version": 3
   },
   "file_extension": ".py",
   "mimetype": "text/x-python",
   "name": "python",
   "nbconvert_exporter": "python",
   "pygments_lexer": "ipython3",
   "version": "3.8.8"
  }
 },
 "nbformat": 4,
 "nbformat_minor": 5
}
