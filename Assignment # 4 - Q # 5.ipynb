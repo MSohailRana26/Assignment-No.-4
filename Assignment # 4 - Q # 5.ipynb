{
 "cells": [
  {
   "cell_type": "code",
   "execution_count": 23,
   "id": "fef5c5f1",
   "metadata": {},
   "outputs": [
    {
     "name": "stdout",
     "output_type": "stream",
     "text": [
      "['English', 'Maths', 'Urdu', 'Geography', 'Social Studies', 'English']\n",
      "Duplicate Value is  English "
     ]
    }
   ],
   "source": [
    "# Assignment No. 4.\n",
    "# Question No. 5.\n",
    "# Write a Python program to identify duplicate values from list.\n",
    "\n",
    "list1 = [\"English\", \"Maths\", \"Urdu\", \"Geography\", \"Social Studies\", \"English\"];\n",
    "list2 = [];\n",
    "print(list1);\n",
    "for duplicate in list1:\n",
    "    if duplicate not in list2:\n",
    "        list2.append(duplicate);\n",
    "    else:\n",
    "        print(\"Duplicate Value is \", duplicate, end=' ');\n",
    "        \n"
   ]
  },
  {
   "cell_type": "code",
   "execution_count": null,
   "id": "cfffa914",
   "metadata": {},
   "outputs": [],
   "source": []
  },
  {
   "cell_type": "code",
   "execution_count": null,
   "id": "a24995ac",
   "metadata": {},
   "outputs": [],
   "source": []
  },
  {
   "cell_type": "code",
   "execution_count": null,
   "id": "7ea86688",
   "metadata": {},
   "outputs": [],
   "source": []
  }
 ],
 "metadata": {
  "kernelspec": {
   "display_name": "Python 3",
   "language": "python",
   "name": "python3"
  },
  "language_info": {
   "codemirror_mode": {
    "name": "ipython",
    "version": 3
   },
   "file_extension": ".py",
   "mimetype": "text/x-python",
   "name": "python",
   "nbconvert_exporter": "python",
   "pygments_lexer": "ipython3",
   "version": "3.8.8"
  }
 },
 "nbformat": 4,
 "nbformat_minor": 5
}
