{
 "cells": [
  {
   "cell_type": "code",
   "execution_count": 6,
   "id": "bde6cdec",
   "metadata": {},
   "outputs": [
    {
     "name": "stdout",
     "output_type": "stream",
     "text": [
      "45\n"
     ]
    }
   ],
   "source": [
    "# Assignment No. 4\n",
    "# Question No. 2.\n",
    "# Write a Python program to check if there is any Numeric Value in the List using for loop\n",
    "\n",
    "listOfItems = [\"xyz\", \"abc\", \"&%$\", 45, \"aeiou\"]; \n",
    "for x in listOfItems: \n",
    "    if type(x) == int: \n",
    "        print(x);"
   ]
  },
  {
   "cell_type": "code",
   "execution_count": null,
   "id": "d7c9f64b",
   "metadata": {},
   "outputs": [],
   "source": []
  },
  {
   "cell_type": "code",
   "execution_count": null,
   "id": "2e07e2e0",
   "metadata": {},
   "outputs": [],
   "source": []
  },
  {
   "cell_type": "code",
   "execution_count": null,
   "id": "4e7961cb",
   "metadata": {},
   "outputs": [],
   "source": []
  }
 ],
 "metadata": {
  "kernelspec": {
   "display_name": "Python 3",
   "language": "python",
   "name": "python3"
  },
  "language_info": {
   "codemirror_mode": {
    "name": "ipython",
    "version": 3
   },
   "file_extension": ".py",
   "mimetype": "text/x-python",
   "name": "python",
   "nbconvert_exporter": "python",
   "pygments_lexer": "ipython3",
   "version": "3.8.8"
  }
 },
 "nbformat": 4,
 "nbformat_minor": 5
}
