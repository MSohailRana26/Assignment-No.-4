{
 "cells": [
  {
   "cell_type": "code",
   "execution_count": 12,
   "id": "b652a225",
   "metadata": {},
   "outputs": [
    {
     "name": "stdout",
     "output_type": "stream",
     "text": [
      "{'Subject1': 'English', 'Subject2': 'Maths', 'Subject3': 'Science', 'Subject4': 'Geography'}\n",
      "{'Subject1': 'English', 'Subject2': 'Maths', 'Subject3': 'Science', 'Subject4': 'Geography', 'Subject5': 'Economics'}\n"
     ]
    }
   ],
   "source": [
    "# Assignment No. 4.\n",
    "# Question No. 3.\n",
    "# Write a Python script to add a key to a dictionary.\n",
    "\n",
    "dictionaryOfSubjects = {\"Subject1\":\"English\", \"Subject2\":\"Maths\", \"Subject3\":\"Science\", \"Subject4\":\"Geography\"};\n",
    "print(dictionaryOfSubjects);\n",
    "dictionaryOfSubjects.update({\"Subject5\":\"Economics\"});\n",
    "print(dictionaryOfSubjects);\n",
    "\n"
   ]
  },
  {
   "cell_type": "code",
   "execution_count": null,
   "id": "3b8c69d5",
   "metadata": {},
   "outputs": [],
   "source": []
  },
  {
   "cell_type": "code",
   "execution_count": null,
   "id": "b39ee4b0",
   "metadata": {},
   "outputs": [],
   "source": []
  },
  {
   "cell_type": "code",
   "execution_count": null,
   "id": "07525e33",
   "metadata": {},
   "outputs": [],
   "source": []
  }
 ],
 "metadata": {
  "kernelspec": {
   "display_name": "Python 3",
   "language": "python",
   "name": "python3"
  },
  "language_info": {
   "codemirror_mode": {
    "name": "ipython",
    "version": 3
   },
   "file_extension": ".py",
   "mimetype": "text/x-python",
   "name": "python",
   "nbconvert_exporter": "python",
   "pygments_lexer": "ipython3",
   "version": "3.8.8"
  }
 },
 "nbformat": 4,
 "nbformat_minor": 5
}
